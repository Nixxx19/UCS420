{
 "cells": [
  {
   "cell_type": "code",
   "execution_count": 5,
   "id": "ed1a4ca3-f6c3-4353-bbc4-83371b57437b",
   "metadata": {},
   "outputs": [
    {
     "name": "stdout",
     "output_type": "stream",
     "text": [
      "Yes it is present\n",
      "berry\n",
      "orange\n",
      "apple\n"
     ]
    }
   ],
   "source": [
    "thisset = {'apple','orange','berry'}\n",
    "if 'apple'in thisset:\n",
    "    print(\"Yes it is present\")\n",
    "for x in thisset:\n",
    "    print(x)"
   ]
  },
  {
   "cell_type": "code",
   "execution_count": 7,
   "id": "3d0c1a6c-3a44-413c-9708-4f3686b81e33",
   "metadata": {},
   "outputs": [
    {
     "name": "stdout",
     "output_type": "stream",
     "text": [
      "{'mango', 'Chiku', 'orange', 'jackfruit', 'grapes', 'apple'}\n"
     ]
    }
   ],
   "source": [
    "fruits = {'apple','orange','grapes','grapes'}\n",
    "tropical = {'mango','jackfruit','Chiku'}\n",
    "fruits.update(tropical)\n",
    "print(fruits)"
   ]
  },
  {
   "cell_type": "code",
   "execution_count": 9,
   "id": "e1248bc4-18b2-46fd-859d-59715b4ab9da",
   "metadata": {},
   "outputs": [
    {
     "name": "stdout",
     "output_type": "stream",
     "text": [
      "{'strawberry', 'orange', 'grapes', 'apple'}\n"
     ]
    }
   ],
   "source": [
    "fruits = {'apple','orange','grapes','grapes'}\n",
    "fruits.add('strawberry')\n",
    "print(fruits)"
   ]
  },
  {
   "cell_type": "code",
   "execution_count": 19,
   "id": "a21fb0a3-3dbd-4cc6-91e8-3bac3c1c1669",
   "metadata": {},
   "outputs": [
    {
     "name": "stdout",
     "output_type": "stream",
     "text": [
      "[10, 20, 30, 40, 50, 60, 70, 80, 200, 300]\n",
      "[20, 40, 50, 60, 70, 80, 200, 300]\n",
      "[300, 200, 80, 70, 60, 50, 40, 20]\n"
     ]
    }
   ],
   "source": [
    "thislist = [10,20,30,40,50,60,70,80]\n",
    "#add:\n",
    "thislist.append(200)\n",
    "thislist.append(300)\n",
    "print(thislist)\n",
    "#remove\n",
    "thislist.remove(10)\n",
    "thislist.remove(30)\n",
    "print(thislist)\n",
    "#descnding orer\n",
    "print(thislist[::-1])"
   ]
  },
  {
   "cell_type": "code",
   "execution_count": 32,
   "id": "f978062f-7e6f-42a7-b6ab-ba491191733e",
   "metadata": {},
   "outputs": [
    {
     "name": "stdout",
     "output_type": "stream",
     "text": [
      "Maximum marks is:  92\n",
      "Maximum marks index is:  5\n",
      "Minimum score is:  45\n",
      "Number of times the lowest score appear is:  2\n",
      "Reverse is:  [45, 58, 92, 89, 45.5, 76, 89.5, 45]\n",
      "Yes 76 is present\n"
     ]
    }
   ],
   "source": [
    "marks = (45,89.5,76,45.5,89,92,58,45)\n",
    "#highest score and its index\n",
    "print('Maximum marks is: ',max(marks))\n",
    "maxmarks = marks.index(max(marks))\n",
    "print('Maximum marks index is: ',maxmarks)\n",
    "#lowest and count it\n",
    "print('Minimum score is: ', min(marks))\n",
    "freq = marks.count(min(marks))\n",
    "print('Number of times the lowest score appear is: ', freq)\n",
    "#reverse\n",
    "score = list(marks)\n",
    "print('Reverse is: ', score[::-1])\n",
    "#check if present\n",
    "if 76 in marks:\n",
    "    print('Yes 76 is present')\n",
    "else:\n",
    "    print('No, not present')"
   ]
  },
  {
   "cell_type": "code",
   "execution_count": 18,
   "id": "8f5654e4-e823-49a8-8066-e2b1ba253395",
   "metadata": {
    "scrolled": true
   },
   "outputs": [
    {
     "name": "stdout",
     "output_type": "stream",
     "text": [
      "[387, 775, 818, 331, 162, 444, 145, 618, 612, 419, 729, 318, 365, 678, 600, 543, 480, 760, 313, 385, 283, 821, 773, 869, 757, 165, 671, 669, 695, 411, 205, 832, 606, 756, 872, 389, 357, 393, 299, 585, 724, 854, 786, 711, 645, 187, 180, 843, 830, 719, 783, 543, 151, 623, 247, 590, 373, 654, 310, 149, 637, 758, 304, 703, 413, 842, 562, 479, 658, 682, 267, 750, 255, 338, 604, 766, 756, 726, 127, 131, 370, 526, 784, 882, 529, 751, 865, 310, 425, 891, 417, 553, 533, 143, 545, 657, 114, 583, 170, 345]\n",
      "Random even integers are:  [818, 162, 444, 618, 612, 318, 678, 600, 480, 760, 832, 606, 756, 872, 724, 854, 786, 180, 830, 590, 654, 310, 758, 304, 842, 562, 658, 682, 750, 338, 604, 766, 756, 726, 370, 526, 784, 882, 310, 114, 170]\n",
      "Random odd integers are:  [387, 775, 331, 145, 419, 729, 365, 543, 313, 385, 283, 821, 773, 869, 757, 165, 671, 669, 695, 411, 205, 389, 357, 393, 299, 585, 711, 645, 187, 843, 719, 783, 543, 151, 623, 247, 373, 149, 637, 703, 413, 479, 267, 255, 127, 131, 529, 751, 865, 425, 891, 417, 553, 533, 143, 545, 657, 583, 345]\n",
      "Random prime integes are:  [387, 387, 775, 775, 818, 162, 162, 162, 162, 444, 444, 444, 444, 444, 145, 618, 618, 618, 612, 612, 612, 612, 612, 612, 612, 612, 729, 729, 729, 318, 318, 318, 365, 678, 678, 678, 600, 600, 600, 600, 600, 600, 600, 600, 600, 600, 600, 543, 480, 480, 480, 480, 480, 480, 480, 480, 480, 480, 480, 760, 760, 760, 760, 760, 760, 760, 385, 385, 385, 869, 165, 165, 165, 671, 669, 695, 411, 205, 832, 832, 832, 832, 832, 832, 606, 606, 606, 756, 756, 756, 756, 756, 756, 756, 756, 756, 756, 756, 872, 872, 872, 357, 357, 357, 393, 299, 585, 585, 585, 585, 585, 724, 724, 854, 854, 854, 786, 786, 786, 711, 711, 645, 645, 645, 187, 180, 180, 180, 180, 180, 180, 180, 180, 843, 830, 830, 830, 783, 783, 783, 543, 623, 247, 590, 590, 590, 654, 654, 654, 310, 310, 310, 637, 637, 758, 304, 304, 304, 304, 703, 413, 842, 562, 658, 658, 658, 682, 682, 682, 267, 750, 750, 750, 750, 750, 750, 750, 255, 255, 255, 338, 338, 604, 604, 766, 756, 756, 756, 756, 756, 756, 756, 756, 756, 756, 756, 726, 726, 726, 726, 726, 370, 370, 370, 526, 784, 784, 784, 784, 784, 784, 784, 882, 882, 882, 882, 882, 882, 882, 882, 529, 865, 310, 310, 310, 425, 425, 891, 891, 891, 891, 417, 553, 533, 143, 545, 657, 657, 114, 114, 114, 583, 170, 170, 170, 345, 345, 345]\n"
     ]
    }
   ],
   "source": [
    "# Generate a list of 100 random numbers between 100 and 900\n",
    "import random\n",
    "Random = [random.randint(100,900) for _ in range(100)]\n",
    "listeven = []\n",
    "listodd = []\n",
    "listprime = []\n",
    "print(Random)\n",
    "for x in Random:\n",
    "    if x%2==0:\n",
    "        listeven.append(x)\n",
    "    else:\n",
    "        listodd.append(x)\n",
    "\n",
    "for x in Random:\n",
    "    for i in range(2,int(x**0.5)+1):\n",
    "        if x%i==0:\n",
    "            listprime.append(x)\n",
    "            \n",
    "print('Random even integers are: ', listeven)\n",
    "print('Random odd integers are: ', listodd)\n",
    "print('Random prime integes are: ', listprime)"
   ]
  },
  {
   "cell_type": "code",
   "execution_count": null,
   "id": "493bc679-502b-4350-ae08-f2cd5ea0868b",
   "metadata": {},
   "outputs": [],
   "source": []
  },
  {
   "cell_type": "code",
   "execution_count": null,
   "id": "310ae285-eca8-46cb-9543-f9676a84691c",
   "metadata": {},
   "outputs": [],
   "source": []
  }
 ],
 "metadata": {
  "kernelspec": {
   "display_name": "Python 3 (ipykernel)",
   "language": "python",
   "name": "python3"
  },
  "language_info": {
   "codemirror_mode": {
    "name": "ipython",
    "version": 3
   },
   "file_extension": ".py",
   "mimetype": "text/x-python",
   "name": "python",
   "nbconvert_exporter": "python",
   "pygments_lexer": "ipython3",
   "version": "3.11.7"
  }
 },
 "nbformat": 4,
 "nbformat_minor": 5
}
